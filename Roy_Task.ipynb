{
 "cells": [
  {
   "cell_type": "code",
   "execution_count": 1,
   "metadata": {
    "collapsed": true
   },
   "outputs": [],
   "source": [
    "from os.path import join\n",
    "import pandas as pd\n",
    "\n",
    "path = '/home/sroy/Desktop/KaggleDataSet/FootballAddicts'\n",
    "df = pd.read_csv(join(path, 'sample_data2.txt'), names = ['timestamp', 'event_type', 'client_id'])"
   ]
  },
  {
   "cell_type": "markdown",
   "metadata": {},
   "source": [
    "# Data Cleaning"
   ]
  },
  {
   "cell_type": "code",
   "execution_count": 2,
   "metadata": {
    "collapsed": true
   },
   "outputs": [],
   "source": [
    "df = df.dropna()\n",
    "df['timestamp'] = df['timestamp'].map(lambda x: x.lstrip('{\"timestamp\": '))\n",
    "df['event_type'] = df['event_type'].astype(str)\n",
    "df['event_type'] = df['event_type'].map(lambda x: x.lstrip('\"event_type\": \"').rstrip('\"'))\n",
    "df['client_id'] = df['client_id'].astype(str)\n",
    "df['client_id'] = df['client_id'].map(lambda x: x.lstrip('\"client_id\": \"').rstrip('\"}'))"
   ]
  },
  {
   "cell_type": "markdown",
   "metadata": {},
   "source": [
    "Eyeballing the cleaned dataset"
   ]
  },
  {
   "cell_type": "code",
   "execution_count": null,
   "metadata": {
    "collapsed": true
   },
   "outputs": [],
   "source": []
  }
 ],
 "metadata": {
  "kernelspec": {
   "display_name": "Python 2",
   "language": "python",
   "name": "python2"
  },
  "language_info": {
   "codemirror_mode": {
    "name": "ipython",
    "version": 2
   },
   "file_extension": ".py",
   "mimetype": "text/x-python",
   "name": "python",
   "nbconvert_exporter": "python",
   "pygments_lexer": "ipython2",
   "version": "2.7.10"
  }
 },
 "nbformat": 4,
 "nbformat_minor": 0
}
